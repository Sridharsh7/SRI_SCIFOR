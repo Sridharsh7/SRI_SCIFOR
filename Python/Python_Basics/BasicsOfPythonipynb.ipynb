{
  "nbformat": 4,
  "nbformat_minor": 0,
  "metadata": {
    "colab": {
      "provenance": []
    },
    "kernelspec": {
      "name": "python3",
      "display_name": "Python 3"
    },
    "language_info": {
      "name": "python"
    }
  },
  "cells": [
    {
      "cell_type": "code",
      "execution_count": 1,
      "metadata": {
        "colab": {
          "base_uri": "https://localhost:8080/"
        },
        "id": "YtYT02lc0jM4",
        "outputId": "2bcbf3b5-6f18-44fd-b8c1-2af23ea9335b"
      },
      "outputs": [
        {
          "output_type": "stream",
          "name": "stdout",
          "text": [
            "Hello World\n"
          ]
        }
      ],
      "source": [
        "print(\"Hello World\")"
      ]
    },
    {
      "cell_type": "code",
      "source": [
        "#VARIABLE - PLACEHOLDER / STORE DATA\n",
        "\n",
        "message = \"Hello World\"\n",
        "print(message)\n"
      ],
      "metadata": {
        "colab": {
          "base_uri": "https://localhost:8080/"
        },
        "id": "badca2Yd2lnE",
        "outputId": "2985d843-0fbc-4d94-c34f-5e8d3f2b7ea1"
      },
      "execution_count": 2,
      "outputs": [
        {
          "output_type": "stream",
          "name": "stdout",
          "text": [
            "Hello World\n"
          ]
        }
      ]
    },
    {
      "cell_type": "code",
      "source": [
        "#by default = string\n",
        "#DATA TYPES -\n",
        "\n",
        "# INTEGER = NUMERICAL VALUE = WHOLE NO = 1,2,3....\n",
        "# FLOAT = DECIMAL = 0.3, 0.5 , 0.8....\n",
        "# CHARACTER = a,b,c || A,B,C\n",
        "# STRING = COLLECTION OF CHARACTERS = Python, jupyter\n",
        "#BOLLEAN = YES OR NO , 0 OR 1\n"
      ],
      "metadata": {
        "id": "yyWalFKZ3kSr"
      },
      "execution_count": 3,
      "outputs": []
    },
    {
      "cell_type": "code",
      "source": [
        "#CONDITIONAL MAKING STATEMENTS\n",
        "#IT HELPS US TO MAKE DECISION BASED ON CERTAIN CONDITIONS\n",
        "\n",
        "#TYPES OF CONDITIONAL STATEMENTS\n",
        "\n",
        "#1-IF-ELSE\n",
        "#2- NESTED - IF - STATEMENT\n",
        "#3 - MATCH CASE STATEMENT"
      ],
      "metadata": {
        "id": "cTH-0RbB4M7Z"
      },
      "execution_count": 4,
      "outputs": []
    },
    {
      "cell_type": "code",
      "source": [
        "#IF-ELSE\n",
        "\n",
        "#IF CONDITION 1 :\n",
        "    STATEMENT 1\n",
        "#ELSE :\n",
        "    STATEMENT 2\n"
      ],
      "metadata": {
        "id": "vxSLLluZ6baR",
        "colab": {
          "base_uri": "https://localhost:8080/",
          "height": 106
        },
        "outputId": "fb1b3870-bf9f-4544-ea41-35414fbbe701"
      },
      "execution_count": 12,
      "outputs": [
        {
          "output_type": "error",
          "ename": "IndentationError",
          "evalue": "unexpected indent (<ipython-input-12-c5ea915cce01>, line 4)",
          "traceback": [
            "\u001b[0;36m  File \u001b[0;32m\"<ipython-input-12-c5ea915cce01>\"\u001b[0;36m, line \u001b[0;32m4\u001b[0m\n\u001b[0;31m    STATEMENT 1\u001b[0m\n\u001b[0m    ^\u001b[0m\n\u001b[0;31mIndentationError\u001b[0m\u001b[0;31m:\u001b[0m unexpected indent\n"
          ]
        }
      ]
    },
    {
      "cell_type": "code",
      "source": [
        "#EXAMPLE - IF-ELSE\n",
        "i = 5\n",
        "\n",
        "if (i>15):\n",
        "  print(\"20 is less than 15\")\n",
        "else :\n",
        "  print(\"stop\")"
      ],
      "metadata": {
        "colab": {
          "base_uri": "https://localhost:8080/"
        },
        "id": "ydNOsjrB63yX",
        "outputId": "15d8e3a2-a878-447e-b55f-7c8481a14601"
      },
      "execution_count": 13,
      "outputs": [
        {
          "output_type": "stream",
          "name": "stdout",
          "text": [
            "stop\n"
          ]
        }
      ]
    },
    {
      "cell_type": "code",
      "source": [
        "#NESTED - IF\n",
        "\n",
        "# IF (CONDITION):\n",
        "# {\n",
        "#     IF\n",
        "#     STATEMENT WILL GET EXECUTED\n",
        "# }"
      ],
      "metadata": {
        "id": "RX-9hnwJ7nbP"
      },
      "execution_count": null,
      "outputs": []
    },
    {
      "cell_type": "code",
      "source": [
        "#NESTED - IF\n",
        "\n",
        "# IF (CONDITION):\n",
        "# {\n",
        "#     ELIF :\n",
        "#     STATEMENT WILL GET EXECUTED\n",
        "      ELIF :\n",
        "      STATEMENT:\n",
        "      ELSE :\n",
        "      STATEMENT :\n",
        "# }"
      ],
      "metadata": {
        "id": "EYMdEmSHDpvB",
        "colab": {
          "base_uri": "https://localhost:8080/",
          "height": 106
        },
        "outputId": "d6595bde-fe4c-4b1b-e17c-23f43fbb3ef1"
      },
      "execution_count": 14,
      "outputs": [
        {
          "output_type": "error",
          "ename": "IndentationError",
          "evalue": "unexpected indent (<ipython-input-14-c93ef2f0724f>, line 7)",
          "traceback": [
            "\u001b[0;36m  File \u001b[0;32m\"<ipython-input-14-c93ef2f0724f>\"\u001b[0;36m, line \u001b[0;32m7\u001b[0m\n\u001b[0;31m    ELIF :\u001b[0m\n\u001b[0m    ^\u001b[0m\n\u001b[0;31mIndentationError\u001b[0m\u001b[0;31m:\u001b[0m unexpected indent\n"
          ]
        }
      ]
    },
    {
      "cell_type": "code",
      "source": [
        "value = 30\n",
        "\n",
        "if value <10 :\n",
        "  print(\"value is less than 10\")\n",
        "\n",
        "if value>20:\n",
        "  print(\"value ias greater than 20\")"
      ],
      "metadata": {
        "id": "XD3fiJXy8UEt"
      },
      "execution_count": null,
      "outputs": []
    },
    {
      "cell_type": "code",
      "source": [
        "# #FUNCTION = THAT HELPS US TO RE-USE THE SAME PIECE OF CODE AGAIN AND AGAIN WITHOUT EXPLICITLY DEFINITING WHENEVER WE NEED\n",
        "# WE CALL THE FUNCTION WHENVER WE NEED IT INSTEAD OF MAKING IT SECOND TIME\n",
        "\n",
        "#ADD\n",
        "\n",
        "#SUBTRACTION\n",
        "\n",
        "#MULTIPLICATION\n",
        "\n",
        "#DIVISION\n",
        "\n",
        "#ADD - CODE AGAIN? (WITHOUT FUNCTION, AGAIN - MARK)\n",
        "\n",
        "#ADD - CODE AGAIN? (FUNCTON, ONLY BY THE NAME YOU CAN CALL FUNCTION)\n",
        "\n",
        "#DIVISON - CALL MY FUNCTION OF DIVISON\n",
        "\n",
        "\n",
        "#HOW TO INITILAIZE/ MAKE FUNCTION ?\n",
        "\n",
        "# def functioname\n"
      ],
      "metadata": {
        "id": "SD7owNIB9Bmt"
      },
      "execution_count": null,
      "outputs": []
    },
    {
      "cell_type": "code",
      "source": [
        "# def apporv:\n",
        "#   .......\n",
        "#   .......\n",
        "#   logic\n",
        "#   .......\n",
        "#   ......\n",
        "\n",
        "# call apporv"
      ],
      "metadata": {
        "id": "jkobpmaW_HTv"
      },
      "execution_count": null,
      "outputs": []
    },
    {
      "cell_type": "code",
      "source": [
        "def add(a,b,c):\n",
        "  return a+b+c\n",
        "\n",
        "result = add (5,3,2)\n",
        "print(result)"
      ],
      "metadata": {
        "colab": {
          "base_uri": "https://localhost:8080/"
        },
        "id": "h1tZfB4l_Wdc",
        "outputId": "b396d8c1-d87a-4361-be17-7b00121c7178"
      },
      "execution_count": 16,
      "outputs": [
        {
          "output_type": "stream",
          "name": "stdout",
          "text": [
            "10\n"
          ]
        }
      ]
    },
    {
      "cell_type": "code",
      "source": [
        "#SWITCH CASE\n",
        "\n",
        "def number(a):\n",
        "  match a :\n",
        "    case 0 :\n",
        "      return \"zero\"\n",
        "    case 1:\n",
        "      return \"one\"\n",
        "    case 2:\n",
        "      return \"two\"\n",
        "    case default :\n",
        "      return \"defaultstatement\"\n",
        "\n",
        "head = number(5)\n",
        "print(head)\n"
      ],
      "metadata": {
        "colab": {
          "base_uri": "https://localhost:8080/"
        },
        "id": "IVc9sx6tA1Y4",
        "outputId": "bae4323f-e189-42ff-c42f-a6aff741f48f"
      },
      "execution_count": 15,
      "outputs": [
        {
          "output_type": "stream",
          "name": "stdout",
          "text": [
            "defaultstatement\n"
          ]
        }
      ]
    },
    {
      "cell_type": "code",
      "source": [
        "# IF-ELIF-ELSE\n",
        "\n",
        "IF\n",
        "{\n",
        "# IF CONDITION 1 :\n",
        "#     PRINT(STATEMENT)\n",
        "# ELIF :\n",
        "#     PRINT\n",
        "# ELIF :\n",
        "#     PRINT()\n",
        "# ELSE :\n",
        "#   PRINT()\n",
        "}"
      ],
      "metadata": {
        "id": "-FBLDfp4DV11"
      },
      "execution_count": null,
      "outputs": []
    },
    {
      "cell_type": "code",
      "source": [
        "#HOMEWORK\n",
        "\n",
        "# 3 QUESTIONS OF CONDITIONAL STATEMENTS\n",
        "# 3 QUESTIONS OF FUNCTIONS\n"
      ],
      "metadata": {
        "id": "Rw6r6id3D9Hq"
      },
      "execution_count": null,
      "outputs": []
    },
    {
      "cell_type": "code",
      "source": [
        "#LOOPS IN PYTHON\n",
        "\n",
        "#THREE CATEGORIES :\n",
        "\n",
        "#FOR LOOP\n",
        "#DO WHILE LOOP\n",
        "#WHILE LOOP\n"
      ],
      "metadata": {
        "id": "WyKdfX0yDKyg"
      },
      "execution_count": null,
      "outputs": []
    },
    {
      "cell_type": "code",
      "source": [
        "#FOR LOOP # known - sequence by the help of range functions\n",
        "\n",
        "# range(1,11) (X,Y) -> X= INCLUSIVE, Y=>EXCLUSIVE\n",
        "# 1\n",
        "# 2\n",
        "# 3\n",
        "# 4\n",
        "# 5\n",
        "# 6\n",
        "# 7\n",
        "# 8\n",
        "# 9\n",
        "# 10\n",
        "\n",
        "# range(0,12,2)\n",
        "\n",
        "# 0\n",
        "# 2\n",
        "# 4\n",
        "# 6\n",
        "# 8\n",
        "# 10\n",
        "\n",
        "for i in range(0,10,2):\n",
        "  print(i)"
      ],
      "metadata": {
        "colab": {
          "base_uri": "https://localhost:8080/"
        },
        "id": "uECfgvDijKK-",
        "outputId": "55314a88-489b-4c68-be44-a59fee5f2f28"
      },
      "execution_count": 17,
      "outputs": [
        {
          "output_type": "stream",
          "name": "stdout",
          "text": [
            "0\n",
            "2\n",
            "4\n",
            "6\n",
            "8\n"
          ]
        }
      ]
    },
    {
      "cell_type": "code",
      "source": [
        "l=[\"python\", \"machine learning\", \"AI\"]\n",
        "\n",
        "for i in l :\n",
        "  print(i)"
      ],
      "metadata": {
        "colab": {
          "base_uri": "https://localhost:8080/"
        },
        "id": "81_HKjzwki5V",
        "outputId": "1d64f387-ccc9-4778-a894-9af80e3c2831"
      },
      "execution_count": 18,
      "outputs": [
        {
          "output_type": "stream",
          "name": "stdout",
          "text": [
            "python\n",
            "machine learning\n",
            "AI\n"
          ]
        }
      ]
    },
    {
      "cell_type": "code",
      "source": [
        "#DIFFERENCE BETWEEN WHILE LOOP AND DO WHILE LOOP\n",
        "\n",
        "#WHILE LOOP = IT EXECUTE AS LONG AS THE CONDITION IS TRUE / THE NO OF EXECUTION OF INTERATION IS NOT KNOWN TO US BEFOREHEAD\n",
        "i=1\n",
        "while i<=5:\n",
        "  print(i)\n",
        "  i+=1"
      ],
      "metadata": {
        "colab": {
          "base_uri": "https://localhost:8080/"
        },
        "id": "0I20tMUmk_JY",
        "outputId": "a91646fd-ce8b-4235-be04-d619032f609c"
      },
      "execution_count": 19,
      "outputs": [
        {
          "output_type": "stream",
          "name": "stdout",
          "text": [
            "1\n",
            "2\n",
            "3\n",
            "4\n",
            "5\n"
          ]
        }
      ]
    },
    {
      "cell_type": "code",
      "source": [
        "#DO WHILE LOOP - EXECUTE ATLEAST ONCE BEFORE CHECKING\n",
        "\n",
        "int i = 10\n",
        "do\n",
        "{\n",
        "    while\n",
        "    print\n",
        "    i++\n",
        "    while\n",
        "}\n"
      ],
      "metadata": {
        "id": "mSvoBzAqmQYk",
        "colab": {
          "base_uri": "https://localhost:8080/",
          "height": 106
        },
        "outputId": "ffdeeff0-4546-44c8-9278-5614be3a5e57"
      },
      "execution_count": 20,
      "outputs": [
        {
          "output_type": "error",
          "ename": "SyntaxError",
          "evalue": "invalid syntax (<ipython-input-20-bd540077e5b1>, line 3)",
          "traceback": [
            "\u001b[0;36m  File \u001b[0;32m\"<ipython-input-20-bd540077e5b1>\"\u001b[0;36m, line \u001b[0;32m3\u001b[0m\n\u001b[0;31m    int i = 10\u001b[0m\n\u001b[0m        ^\u001b[0m\n\u001b[0;31mSyntaxError\u001b[0m\u001b[0;31m:\u001b[0m invalid syntax\n"
          ]
        }
      ]
    },
    {
      "cell_type": "code",
      "source": [
        "#DO WHILE LOOP\n",
        "\n",
        "i = 1\n",
        "\n",
        "while True :\n",
        "  print(i)\n",
        "  i=i+1\n",
        "  if(i>5):\n",
        "    break"
      ],
      "metadata": {
        "colab": {
          "base_uri": "https://localhost:8080/"
        },
        "id": "jVcGcj86m-yl",
        "outputId": "13ef2703-546b-4dce-eedb-98c2034f94cc"
      },
      "execution_count": 21,
      "outputs": [
        {
          "output_type": "stream",
          "name": "stdout",
          "text": [
            "1\n",
            "2\n",
            "3\n",
            "4\n",
            "5\n"
          ]
        }
      ]
    }
  ]
}