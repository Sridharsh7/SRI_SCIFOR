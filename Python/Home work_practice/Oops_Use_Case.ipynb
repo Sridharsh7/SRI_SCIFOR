{
  "nbformat": 4,
  "nbformat_minor": 0,
  "metadata": {
    "colab": {
      "provenance": []
    },
    "kernelspec": {
      "name": "python3",
      "display_name": "Python 3"
    },
    "language_info": {
      "name": "python"
    }
  },
  "cells": [
    {
      "cell_type": "code",
      "execution_count": 1,
      "metadata": {
        "colab": {
          "base_uri": "https://localhost:8080/"
        },
        "id": "KhhhUVltR5tn",
        "outputId": "332a3597-fb65-4a16-8f61-b9f650a002eb"
      },
      "outputs": [
        {
          "output_type": "stream",
          "name": "stdout",
          "text": [
            "Enter your PIN for withdrawal: 1234\n",
            "Enter amount to withdraw: 1000\n",
            "Withdrawal amount: 1000.0. Remaining balance: 0.0\n",
            "Enter your PIN for deposit: 1234\n",
            "Enter amount to deposit: 600\n",
            "Deposited amount: 600.0. Current balance: 600.0\n"
          ]
        }
      ],
      "source": [
        "class Bank:\n",
        "    def __init__(self, pin, balance=0):\n",
        "        self.__pin = pin\n",
        "        self.__balance = balance\n",
        "    def __verify_pin(self, input_pin):\n",
        "        return self.__pin == input_pin\n",
        "    def withdraw(self, input_pin, amount):\n",
        "        if self.__verify_pin(input_pin):\n",
        "            if amount > self.__balance:\n",
        "                return f\"Insufficient balance. Current balance: {self.__balance}\"\n",
        "            else:\n",
        "                self.__balance -= amount\n",
        "                return f\"Withdrawal amount: {amount}. Remaining balance: {self.__balance}\"\n",
        "        else:\n",
        "            return \"Invalid PIN.\"\n",
        "    def deposit(self, input_pin, amount):\n",
        "        if self.__verify_pin(input_pin):\n",
        "            self.__balance += amount\n",
        "            return f\"Deposited amount: {amount}. Current balance: {self.__balance}\"\n",
        "        else:\n",
        "            return \"Invalid PIN.\"\n",
        "bank_account = Bank(pin=1234, balance=1000)\n",
        "pin_input = int(input(\"Enter your PIN for withdrawal: \"))\n",
        "withdraw_amount = float(input(\"Enter amount to withdraw: \"))\n",
        "print(bank_account.withdraw(pin_input, withdraw_amount))\n",
        "\n",
        "pin_input = int(input(\"Enter your PIN for deposit: \"))\n",
        "deposit_amount = float(input(\"Enter amount to deposit: \"))\n",
        "print(bank_account.deposit(pin_input, deposit_amount))"
      ]
    }
  ]
}