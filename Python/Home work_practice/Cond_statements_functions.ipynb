{
  "nbformat": 4,
  "nbformat_minor": 0,
  "metadata": {
    "colab": {
      "provenance": []
    },
    "kernelspec": {
      "name": "python3",
      "display_name": "Python 3"
    },
    "language_info": {
      "name": "python"
    }
  },
  "cells": [
    {
      "cell_type": "markdown",
      "source": [
        "## 3 questions on conditional statements:\n",
        "## If-else statement\n",
        "\n",
        "---\n",
        "\n"
      ],
      "metadata": {
        "id": "Ox01bwIYigcl"
      }
    },
    {
      "cell_type": "code",
      "source": [
        "number = 9\n",
        "if number % 2 == 0:\n",
        "    print('even')\n",
        "else:\n",
        "    print('odd')"
      ],
      "metadata": {
        "colab": {
          "base_uri": "https://localhost:8080/"
        },
        "id": "N-yN20pYilgL",
        "outputId": "978d1008-c49d-45ee-aa07-899fe7c39822"
      },
      "execution_count": 1,
      "outputs": [
        {
          "output_type": "stream",
          "name": "stdout",
          "text": [
            "odd\n"
          ]
        }
      ]
    },
    {
      "cell_type": "markdown",
      "source": [
        "## Nested-If statements\n",
        "\n",
        "---\n",
        "\n"
      ],
      "metadata": {
        "id": "oO2_ICxszLhn"
      }
    },
    {
      "cell_type": "code",
      "source": [
        "score = 45\n",
        "if score >= 90:\n",
        "    print('Grade A')\n",
        "elif score >= 80:\n",
        "    print('Grade B')\n",
        "elif score >= 70:\n",
        "    print('Grade C')\n",
        "elif score >= 60:\n",
        "    print('Grade D')\n",
        "else:\n",
        "    print('Grade F')"
      ],
      "metadata": {
        "colab": {
          "base_uri": "https://localhost:8080/"
        },
        "id": "Acds807UzShc",
        "outputId": "6437d130-26cb-4a9d-d89c-1f1aba742d55"
      },
      "execution_count": null,
      "outputs": [
        {
          "output_type": "stream",
          "name": "stdout",
          "text": [
            "Grade F\n"
          ]
        }
      ]
    },
    {
      "cell_type": "code",
      "source": [
        "age= -70\n",
        "if age <0 or age>120:\n",
        "  print('Invalid age')\n",
        "elif age<= 12:\n",
        "  print('Child')\n",
        "elif age <= 17:\n",
        "  print('Teen')\n",
        "elif age <=64:\n",
        "  print('Adult:')\n",
        "else:\n",
        "  print ('Senior')"
      ],
      "metadata": {
        "colab": {
          "base_uri": "https://localhost:8080/"
        },
        "id": "Ev1um_WN3nuI",
        "outputId": "87c5c676-d353-4440-95c7-f5dca8229e6e"
      },
      "execution_count": null,
      "outputs": [
        {
          "output_type": "stream",
          "name": "stdout",
          "text": [
            "Invalid age\n"
          ]
        }
      ]
    },
    {
      "cell_type": "markdown",
      "source": [
        "## 3 questions on Functions:\n",
        "\n",
        "---\n",
        "\n"
      ],
      "metadata": {
        "id": "voQ_WHvH0wvt"
      }
    },
    {
      "cell_type": "code",
      "source": [
        "#defining the function with the following pseudocode:\n",
        "def days_week(day):\n",
        "    match day:\n",
        "        case 1:\n",
        "            return \"Monday\"\n",
        "        case 2:\n",
        "            return \"Tuesday\"\n",
        "        case 3:\n",
        "            return \"Wednesday\"\n",
        "        case 4:\n",
        "            return \"Thursday\"\n",
        "        case 5:\n",
        "            return \"Friday\"\n",
        "        case 6:\n",
        "            return \"Saturday\"\n",
        "        case 7:\n",
        "            return \"Sunday\"\n",
        "        case _:\n",
        "            return \"Invalid day\"\n",
        "# Testing the function\n",
        "print(days_week(1))\n",
        "print(days_week(4))\n",
        "print(days_week(7))\n",
        "print(days_week(9))"
      ],
      "metadata": {
        "colab": {
          "base_uri": "https://localhost:8080/"
        },
        "id": "1ONHThjT06b-",
        "outputId": "022796c5-4a95-452a-ef8f-73bb025d095e"
      },
      "execution_count": null,
      "outputs": [
        {
          "output_type": "stream",
          "name": "stdout",
          "text": [
            "Monday\n",
            "Thursday\n",
            "Sunday\n",
            "Invalid day\n"
          ]
        }
      ]
    },
    {
      "cell_type": "code",
      "source": [
        "def square(number):\n",
        "    return number * number\n",
        "print(square(4))\n",
        "print(square(-8))\n",
        "print(square(7.5))"
      ],
      "metadata": {
        "colab": {
          "base_uri": "https://localhost:8080/"
        },
        "id": "KjQZvzWf6vmO",
        "outputId": "448c9690-a8eb-45b2-fc14-b0689fa19e8c"
      },
      "execution_count": null,
      "outputs": [
        {
          "output_type": "stream",
          "name": "stdout",
          "text": [
            "16\n",
            "64\n",
            "56.25\n"
          ]
        }
      ]
    },
    {
      "cell_type": "code",
      "source": [
        "def factorial(n):\n",
        "    if n < 0:\n",
        "        return \"Invalid input\"\n",
        "    elif n == 0 or n == 1:\n",
        "        return 1\n",
        "    else:\n",
        "        result = 1\n",
        "        for i in range(2, n + 1):\n",
        "            result += i\n",
        "        return result\n",
        "print(factorial(5))\n",
        "print(factorial(0))\n",
        "print(factorial(-3))"
      ],
      "metadata": {
        "colab": {
          "base_uri": "https://localhost:8080/"
        },
        "id": "pUCrTCYh6QTy",
        "outputId": "acdeab27-7677-4c52-b13d-5308e3ec6296"
      },
      "execution_count": null,
      "outputs": [
        {
          "output_type": "stream",
          "name": "stdout",
          "text": [
            "15\n",
            "1\n",
            "Invalid input\n"
          ]
        }
      ]
    }
  ]
}