{
  "nbformat": 4,
  "nbformat_minor": 0,
  "metadata": {
    "colab": {
      "provenance": []
    },
    "kernelspec": {
      "name": "python3",
      "display_name": "Python 3"
    },
    "language_info": {
      "name": "python"
    }
  },
  "cells": [
    {
      "cell_type": "markdown",
      "source": [
        "## Q1- Code for the implementation of Polymorphism"
      ],
      "metadata": {
        "id": "4ax5OnnM7ViX"
      }
    },
    {
      "cell_type": "code",
      "source": [
        "#Parent Class\n",
        "class Shape:\n",
        "  def area(self):\n",
        "    pass\n",
        "#Child class 1\n",
        "class Rectangle(Shape):\n",
        "  def __init__(self, width,height):\n",
        "    self.width=width\n",
        "    self.height=height\n",
        "  def area(self):\n",
        "    return self.width * self.height\n",
        "#child class 2\n",
        "class circle(Shape):\n",
        "  def __init__(self, radius):\n",
        "    self.radius = radius\n",
        "  def area(self):\n",
        "    return 3.14*self.radius**2\n",
        "#Function to show polymorphism\n",
        "def print_area(shape):\n",
        "  print(f\"Area: {shape.area()}\")\n",
        "\n",
        "#Creating object of each class\n",
        "rectangle= Rectangle(5,3)\n",
        "circle= circle(4)\n",
        "\n",
        "#using polymorphism to call the area method\n",
        "print_area(rectangle)\n",
        "print_area(circle)"
      ],
      "metadata": {
        "colab": {
          "base_uri": "https://localhost:8080/"
        },
        "id": "XjTOVRRE_QIM",
        "outputId": "d36a2540-8867-4896-e684-7916e6adaea8"
      },
      "execution_count": null,
      "outputs": [
        {
          "output_type": "stream",
          "name": "stdout",
          "text": [
            "Area: 15\n",
            "Area: 50.24\n"
          ]
        }
      ]
    },
    {
      "cell_type": "markdown",
      "source": [
        "## Q2- Code for the implementation of Encapsulation."
      ],
      "metadata": {
        "id": "D46TY3-9Q37Q"
      }
    },
    {
      "cell_type": "code",
      "source": [
        "class Person:\n",
        "    def __init__(self):\n",
        "      self.__name= \"\"\n",
        "      self.__age= 0\n",
        "    def name(self):\n",
        "      return self.__name\n",
        "    def name(self, value):\n",
        "      self.__name= value\n",
        "    def age(self):\n",
        "      return self.__age\n",
        "    def age(self, value):\n",
        "      if value >= 0:\n",
        "        self.__age= value\n",
        "      else:\n",
        "        print(\"Invalid age. Age cannot be negative\")\n",
        "person1= Person()\n",
        "person1.name= 'Priya'\n",
        "person1.age= 32\n",
        "print(\"Name: \", person1.name)\n",
        "print(\"Age: \", person1.age)"
      ],
      "metadata": {
        "colab": {
          "base_uri": "https://localhost:8080/"
        },
        "id": "b9AHZe2qVudX",
        "outputId": "98672e6d-2351-4c84-eeda-642b54b6426f"
      },
      "execution_count": null,
      "outputs": [
        {
          "output_type": "stream",
          "name": "stdout",
          "text": [
            "Name:  Priya\n",
            "Age:  32\n"
          ]
        }
      ]
    },
    {
      "cell_type": "markdown",
      "source": [
        "## Q3- Define a function to calculate factorial, and input should be given by user."
      ],
      "metadata": {
        "id": "hu_aBB9waiEq"
      }
    },
    {
      "cell_type": "code",
      "source": [
        "def factorial(n):\n",
        "  if n<0:\n",
        "    return \"Invalid input. Factorial is not defined for negative numbers.\"\n",
        "  elif n==0 or n==1:\n",
        "    return 1\n",
        "  else:\n",
        "    result=1\n",
        "    for i in range(2, n+1):\n",
        "      result*=i\n",
        "    return result\n",
        "num= int(input(\"Enter a non-negative integer: \"))\n",
        "\n",
        "if num>= 0:\n",
        "  print(\"Factorial: \", factorial(num))\n",
        "else:\n",
        "  print(\"Invalid input. Please enter a valid non-negative integer.\")"
      ],
      "metadata": {
        "colab": {
          "base_uri": "https://localhost:8080/"
        },
        "id": "AQI8K17NVuum",
        "outputId": "aaf29b9f-05a1-4fa0-b95a-78622a91ae70"
      },
      "execution_count": null,
      "outputs": [
        {
          "output_type": "stream",
          "name": "stdout",
          "text": [
            "Enter a non-negative integer: 5\n",
            "Factorial:  120\n"
          ]
        }
      ]
    },
    {
      "cell_type": "markdown",
      "source": [
        "## Q4- Write a function to reverse the list.\n",
        "list= [1,2,3,4,5]"
      ],
      "metadata": {
        "id": "tZZ7ZSEwczFH"
      }
    },
    {
      "cell_type": "code",
      "source": [
        "def rev_list(in_lst):\n",
        "    return in_lst[::-1]\n",
        "\n",
        "my_list = [1, 2, 3, 4, 5]\n",
        "reversed_list = rev_list(my_list)\n",
        "\n",
        "print(f\"Original list: {my_list}\")\n",
        "print(f\"Reversed list: {reversed_list}\")"
      ],
      "metadata": {
        "colab": {
          "base_uri": "https://localhost:8080/"
        },
        "id": "mV1MKuFTVuzV",
        "outputId": "f57e1fe4-d484-4d67-f3b9-ad1c230f8604"
      },
      "execution_count": null,
      "outputs": [
        {
          "output_type": "stream",
          "name": "stdout",
          "text": [
            "Original list: [1, 2, 3, 4, 5]\n",
            "Reversed list: [5, 4, 3, 2, 1]\n"
          ]
        }
      ]
    },
    {
      "cell_type": "markdown",
      "source": [
        "## Q5- Write a code to make calculator that takes user input.##"
      ],
      "metadata": {
        "id": "5hQsy-N0gi9J"
      }
    },
    {
      "cell_type": "code",
      "source": [
        "def calculator():\n",
        "    num1 = float(input(\"Enter the first number: \"))\n",
        "    operator = input(\"Enter the operator (+, -, *, /): \")\n",
        "    num2 = float(input(\"Enter the second number: \"))\n",
        "\n",
        "    if operator in ['+', '-', '*', '/']:\n",
        "        if operator == '+':\n",
        "            result = num1 + num2\n",
        "        elif operator == '-':\n",
        "            result = num1 - num2\n",
        "        elif operator == '*':\n",
        "            result = num1 * num2\n",
        "        elif operator == '/':\n",
        "            result = num1 / num2 if num2 != 0 else \"Error: Division by zero\"\n",
        "        print(f\"Result: {result}\")\n",
        "    else:\n",
        "        print(\"Invalid operator\")\n",
        "\n",
        "calculator()"
      ],
      "metadata": {
        "colab": {
          "base_uri": "https://localhost:8080/"
        },
        "id": "XAwKhgYjhG4A",
        "outputId": "099a14d9-c103-472a-e1ce-4896e96b0c0c"
      },
      "execution_count": null,
      "outputs": [
        {
          "output_type": "stream",
          "name": "stdout",
          "text": [
            "Enter the first number: 6\n",
            "Enter the operator (+, -, *, /): 8\n",
            "Enter the second number: 5\n",
            "Invalid operator\n"
          ]
        }
      ]
    },
    {
      "cell_type": "markdown",
      "source": [
        "## Q6- Provided a list [2,3,4,5]. Find the position of 3 and also append 6 in the list."
      ],
      "metadata": {
        "id": "v-DxIQ8bkFm3"
      }
    },
    {
      "cell_type": "code",
      "source": [
        "list1= [2,3,4,5]\n",
        "position_3 = list1.index(3)\n",
        "print(f\"Position of 3: {position_3}\")\n",
        "list1.append(6)\n",
        "print(f\"Updated list: {list1}\")"
      ],
      "metadata": {
        "colab": {
          "base_uri": "https://localhost:8080/"
        },
        "id": "B5dOT12dkcSa",
        "outputId": "11e75f86-610e-4631-eebd-f4e0a49313f3"
      },
      "execution_count": null,
      "outputs": [
        {
          "output_type": "stream",
          "name": "stdout",
          "text": [
            "Position of 3: 1\n",
            "Updated list: [2, 3, 4, 5, 6]\n"
          ]
        }
      ]
    }
  ]
}