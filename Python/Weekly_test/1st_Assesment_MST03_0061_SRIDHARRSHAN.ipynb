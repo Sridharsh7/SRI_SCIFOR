{
  "nbformat": 4,
  "nbformat_minor": 0,
  "metadata": {
    "colab": {
      "provenance": []
    },
    "kernelspec": {
      "name": "python3",
      "display_name": "Python 3"
    },
    "language_info": {
      "name": "python"
    }
  },
  "cells": [
    {
      "cell_type": "markdown",
      "source": [
        "**1.Explain Encapsulation with example and write python code?**\n",
        "\n",
        "Encapsulation is a fundamental principle in object-oriented programming (OOP) that involves bundling the data (attributes) and the methods (functions) that operate on the data into a single unit, or class. It also restricts direct access to some of the object's components, which is a means of preventing accidental interference and misuse of the methods and data. Encapsulation is achieved by using access modifiers to control access to the class's data and methods.\n",
        "Key Concepts of Encapsulation\n",
        "1.\tPrivate Members: Attributes or methods that are not accessible from outside the class. In many programming languages, these are denoted with a special prefix (e.g., _ or __ in Python).\n",
        "2.\tPublic Members: Attributes or methods that are accessible from outside the class.\n",
        "3.\tGetters and Setters: Special methods used to access and update the values of private attributes. This provides a controlled way of accessing and modifying data.\n",
        "\n",
        "\n",
        "Example: Student records-name, age, grade"
      ],
      "metadata": {
        "id": "VNzGcFNF5ppW"
      }
    },
    {
      "cell_type": "code",
      "source": [
        "class Student:\n",
        "    def __init__(self, name, age, grade):\n",
        "        self._name = name  # Protected attribute\n",
        "        self._age = age    # Protected attribute\n",
        "        self._grade = grade  # Protected attribute\n",
        "\n",
        "    # Getter method\n",
        "    def get_name(self):\n",
        "        return self._name\n",
        "\n",
        "    # Setter method\n",
        "    def set_grade(self, grade):\n",
        "        if 0 <= grade <= 100:\n",
        "            self._grade = grade\n",
        "\n",
        "# Create a Student object\n",
        "student1 = Student(\"Alice\", 18, 90)\n",
        "\n",
        "# Accessing attributes through methods\n",
        "print(student1.get_name())\n",
        "\n",
        "# Modifying attributes through methods\n",
        "student1.set_grade(95)\n",
        "print(student1._grade)\n"
      ],
      "metadata": {
        "colab": {
          "base_uri": "https://localhost:8080/"
        },
        "id": "h0Ywq5vD7r6G",
        "outputId": "0ebc24b2-44bf-479e-a320-49447f25dcee"
      },
      "execution_count": null,
      "outputs": [
        {
          "output_type": "stream",
          "name": "stdout",
          "text": [
            "Alice\n",
            "95\n"
          ]
        }
      ]
    },
    {
      "cell_type": "markdown",
      "source": [
        "**2.Explain Polymorphism with example and write python code?**\n",
        "\n",
        "Polymorphism is a core concept in object-oriented programming (OOP) that allows objects of different classes to be treated as objects of a common superclass. It enables a single interface to be used for a general class of actions, with specific behavior determined by the exact nature of the situation or the class of the object involved. In essence, polymorphism allows methods to do different things based on the object it is acting upon.\n",
        "\n",
        "Types of Polymorphism\n",
        "1.\tCompile-Time Polymorphism (Method Overloading): This occurs when multiple methods have the same name but differ in the type or number of their parameters. It's resolved during compile time.\n",
        "2.\tRun-Time Polymorphism (Method Overriding): This occurs when a subclass provides a specific implementation of a method that is already defined in its superclass. It's resolved during runtime.\n",
        "\n",
        "\n",
        "Example:\n",
        "\n",
        "Sound of Animal:\n",
        " Which has More than one parent class in the same method"
      ],
      "metadata": {
        "id": "7ZMYT67t8b9N"
      }
    },
    {
      "cell_type": "code",
      "source": [
        "class Animal:\n",
        "  def speak(self):\n",
        "    pass\n",
        "\n",
        "class Dog(Animal):\n",
        "  def speak(self):\n",
        "    print(\"Woof!\")\n",
        "\n",
        "class Cat(Animal):\n",
        "  def speak(self):\n",
        "    print(\"Meow!\")\n",
        "\n",
        "dog = Dog()\n",
        "cat = Cat()\n",
        "\n",
        "for animal in [dog, cat]:\n",
        "  animal.speak()\n"
      ],
      "metadata": {
        "colab": {
          "base_uri": "https://localhost:8080/"
        },
        "id": "-cIfj5J59LV1",
        "outputId": "532f8739-7cb2-430a-9bdc-09e01e4ea1ed"
      },
      "execution_count": null,
      "outputs": [
        {
          "output_type": "stream",
          "name": "stdout",
          "text": [
            "Woof!\n",
            "Meow!\n"
          ]
        }
      ]
    },
    {
      "cell_type": "markdown",
      "source": [
        "**3.Explain Single-Level Inheritance with the python code?**\n",
        "\n",
        "Single-level inheritance is a fundamental concept in object-oriented programming (OOP) where a class (child or subclass) inherits properties and behaviors (methods) from another class (parent or superclass). This type of inheritance establishes a straightforward parent-child relationship between two classes.\n",
        "\n",
        "Key Concepts\n",
        "1.\tParent Class (Superclass): The class from which properties and behaviors are inherited.\n",
        "2.\tChild Class (Subclass): The class that inherits properties and behaviors from the parent class.\n"
      ],
      "metadata": {
        "id": "qmPCxWvH-gnG"
      }
    },
    {
      "cell_type": "code",
      "source": [
        "# Single Level Inheritance in Python\n",
        "# Parent class\n",
        "class Person:\n",
        "    def __init__(self, name, age):\n",
        "        self.name = name\n",
        "        self.age = age\n",
        "\n",
        "# Child class\n",
        "class Employee(Person):\n",
        "    def __init__(self, name, age, emp_id):\n",
        "        # Inheriting parent class attributes\n",
        "        super().__init__(name, age)\n",
        "        self.emp_id = emp_id\n",
        "\n",
        "# Creating objects of the child class\n",
        "emp1 = Employee(\"John\", 30, 101)\n",
        "emp2 = Employee(\"Jane\", 28, 102)\n",
        "\n",
        "# Accessing attributes of the parent class\n",
        "print(emp1.name, emp1.age, emp1.emp_id)\n",
        "print(emp2.name, emp2.age, emp2.emp_id)\n"
      ],
      "metadata": {
        "colab": {
          "base_uri": "https://localhost:8080/"
        },
        "id": "2GeMO74698n0",
        "outputId": "cb9c67f3-deb3-48cd-9cf4-bbeb934d7788"
      },
      "execution_count": null,
      "outputs": [
        {
          "output_type": "stream",
          "name": "stdout",
          "text": [
            "John 30 101\n",
            "Jane 28 102\n"
          ]
        }
      ]
    },
    {
      "cell_type": "markdown",
      "source": [
        "**4.Explain Multiple inheritance with pythoncode?**\n",
        "\n",
        "Multiple inheritance is a feature in object-oriented programming where a class can inherit attributes and methods from more than one parent class. This allows a child class to combine behaviors and properties from multiple sources.\n",
        "\n",
        "Key Concepts\n",
        "1.\tParent Classes (Superclasses): The classes from which properties and behaviors are inherited.\n",
        "2.\tChild Class (Subclass): The class that inherits properties and behaviors from multiple parent classes.\n"
      ],
      "metadata": {
        "id": "1e-uIhft_mpZ"
      }
    },
    {
      "cell_type": "code",
      "source": [
        "# Parent class 1\n",
        "class Animal:\n",
        "    def speak(self):\n",
        "        print(\"I can speak\")\n",
        "\n",
        "# Parent class 2\n",
        "class Mammal:\n",
        "    def run(self):\n",
        "        print(\"I can run\")\n",
        "\n",
        "# Child class inheriting from multiple parents\n",
        "class Dog(Animal, Mammal):\n",
        "    def bark(self):\n",
        "        print(\"Woof!\")\n",
        "\n",
        "dog = Dog()\n",
        "\n",
        "# Accessing methods from both parent classes\n",
        "dog.speak()\n",
        "dog.run()\n",
        "dog.bark()"
      ],
      "metadata": {
        "colab": {
          "base_uri": "https://localhost:8080/"
        },
        "id": "yrvE3l4S_x7h",
        "outputId": "70d9f63c-f23b-46a0-f884-52a43491a2e5"
      },
      "execution_count": null,
      "outputs": [
        {
          "output_type": "stream",
          "name": "stdout",
          "text": [
            "I can speak\n",
            "I can run\n",
            "Woof!\n"
          ]
        }
      ]
    },
    {
      "cell_type": "markdown",
      "source": [
        "**5.Explain Muti-level inheritance with python code ?**\n",
        "\n",
        "Multi-level inheritance is a form of inheritance in object-oriented programming where a class is derived from another derived class. In other words, it involves a parent class, a child class that inherits from the parent, and a grandchild class that inherits from the child. This creates a chain or a hierarchy of classes.\n",
        "\n",
        "Key Concepts\n",
        "1.\tParent Class (Base Class or Superclass): The original class from which other classes are derived.\n",
        "2.\tChild Class (Subclass): A class that inherits from the parent class.\n",
        "3.\tGrandchild Class: A class that inherits from the child class.\n"
      ],
      "metadata": {
        "id": "ComKGFIoAY-b"
      }
    },
    {
      "cell_type": "code",
      "source": [
        "# Parent class\n",
        "class Vehicle:\n",
        "    def __init__(self, make, model):\n",
        "        self.make = make\n",
        "        self.model = model\n",
        "\n",
        "# Child class inheriting from the Vehicle class\n",
        "class Car(Vehicle):\n",
        "    def __init__(self, make, model, year):\n",
        "        super().__init__(make, model)\n",
        "        self.year = year\n",
        "\n",
        "# Grandchild class inheriting from the Car class\n",
        "class ElectricCar(Car):\n",
        "    def __init__(self, make, model, year, battery_size):\n",
        "        super().__init__(make, model, year)\n",
        "        self.battery_size = battery_size\n",
        "\n",
        "# Creating an object of the ElectricCar class\n",
        "car = ElectricCar(\"Tesla\", \"Model S\", 2023, 100)\n",
        "\n",
        "# Accessing attributes of the ElectricCar object\n",
        "print(car.make)\n",
        "print(car.model)\n",
        "print(car.year)\n",
        "print(car.battery_size)"
      ],
      "metadata": {
        "colab": {
          "base_uri": "https://localhost:8080/"
        },
        "id": "c9dmya_GAvNF",
        "outputId": "44b6357c-35c3-46c8-c635-738c648a1d1f"
      },
      "execution_count": null,
      "outputs": [
        {
          "output_type": "stream",
          "name": "stdout",
          "text": [
            "Tesla\n",
            "Model S\n",
            "2023\n",
            "100\n"
          ]
        }
      ]
    },
    {
      "cell_type": "markdown",
      "source": [
        "**6.What do you mean by conditional statements.Explain with python code ?**\n",
        "\n",
        "Conditional statements are a fundamental concept in programming that allow for decision-making within a program. They enable a program to execute different blocks of code based on whether certain conditions are true or false. This is essential for creating dynamic and flexible programs that can respond to varying inputs and situations.\n",
        "\n",
        "Types of Conditional Statements\n",
        "1.\tif Statement: Executes a block of code if the specified condition is true.\n",
        "2.\telse Statement: Executes a block of code if the condition in the if statement is false.\n",
        "3.\telif Statement: Short for \"else if\", it allows for multiple conditions to be checked in sequence.\n",
        "4.\tNested Conditionals: Conditional statements inside other conditional statements.\n",
        "\n",
        "Syntax and Examples\n",
        "\n",
        "\n",
        "\n",
        "\n",
        "\n",
        "\n",
        "\n",
        "\n"
      ],
      "metadata": {
        "id": "LVnmnrVKBEvv"
      }
    },
    {
      "cell_type": "code",
      "source": [
        "#If Statement\n",
        "#The if statement evaluates a condition and, if the condition is true, executes the block of code that follows.\n",
        "x = 10\n",
        "if x >5:\n",
        "  print(\"x is greater than 5\")  # This will be printed because the condition is true."
      ],
      "metadata": {
        "colab": {
          "base_uri": "https://localhost:8080/"
        },
        "id": "pRUmSfv_BfLY",
        "outputId": "0f28be33-21da-487b-c945-83efb47b4b24"
      },
      "execution_count": null,
      "outputs": [
        {
          "output_type": "stream",
          "name": "stdout",
          "text": [
            "x is greater than 5\n"
          ]
        }
      ]
    },
    {
      "cell_type": "code",
      "source": [
        "#Else Statement\n",
        "#The else statement is used after an if statement and executes a block of code if the if statement's condition is false.\n",
        "\n",
        "x = 3\n",
        "if x >5:\n",
        "  print(\"x is greater than 5\")\n",
        "else:\n",
        "  print(\"x is not greater than 5\")  # This will be printed because the condition is false."
      ],
      "metadata": {
        "colab": {
          "base_uri": "https://localhost:8080/"
        },
        "id": "B90wfB4oBu37",
        "outputId": "23f92959-5c68-49f6-88a4-8f43fe8fa14d"
      },
      "execution_count": null,
      "outputs": [
        {
          "output_type": "stream",
          "name": "stdout",
          "text": [
            "x is not greater than 5\n"
          ]
        }
      ]
    },
    {
      "cell_type": "code",
      "source": [
        "#Elif Statement\n",
        "#The elif statement allows you to check multiple conditions. It stands for \"else if\".\n",
        "x = 7\n",
        "if x >10:\n",
        "  print(\"x is greater than 10\")\n",
        "elif x >5:\n",
        "  print(\"x is greater than 5 but less than or equal to 10\")  # This will be printed.\n",
        "else:\n",
        "  print(\"x is 5 or less\")"
      ],
      "metadata": {
        "colab": {
          "base_uri": "https://localhost:8080/"
        },
        "id": "gPt-2SlQBz8a",
        "outputId": "32a057ca-48ac-4330-f320-e2136d43bb57"
      },
      "execution_count": null,
      "outputs": [
        {
          "output_type": "stream",
          "name": "stdout",
          "text": [
            "x is greater than 5 but less than or equal to 10\n"
          ]
        }
      ]
    },
    {
      "cell_type": "code",
      "source": [
        "#Nested Conditionals\n",
        "#Conditional statements can be nested within each other to create more complex decision structures.\n",
        "x = 8\n",
        "if x >5:\n",
        "  if x % 2 == 0:\n",
        "    print(\"x is greater than 5 and even\")  # This will be printed.\n",
        "  else:\n",
        "    print(\"x is greater than 5 and odd\")\n",
        "else:\n",
        "  print(\"x is 5 or less\")"
      ],
      "metadata": {
        "colab": {
          "base_uri": "https://localhost:8080/"
        },
        "id": "tcb-i9HkCBqo",
        "outputId": "aeece694-f25d-43ca-d3c5-ee3107dfe56d"
      },
      "execution_count": null,
      "outputs": [
        {
          "output_type": "stream",
          "name": "stdout",
          "text": [
            "x is greater than 5 and even\n"
          ]
        }
      ]
    },
    {
      "cell_type": "code",
      "source": [
        "age = 20\n",
        "\n",
        "if age >= 18:\n",
        "  print(\"You are eligible to vote.\")\n",
        "else:\n",
        "  print(\"You are not eligible to vote.\")\n",
        "\n",
        "#Explanation:\n",
        "#if Statement: The condition age >= 18 checks if the person is 18 years or older.\n",
        "#else Statement: If the condition is false (the person is younger than 18),\n",
        "#it executes the code within the else block.\n",
        "#Conditional statements are a key part of programming that enable a program to\n",
        "#perform different actions based on different conditions. They are used to implement decision-making in code, making it possible for a program to react to various inputs and situations appropriately.\n"
      ],
      "metadata": {
        "colab": {
          "base_uri": "https://localhost:8080/"
        },
        "id": "vBKicki5CPpo",
        "outputId": "87912814-09d2-4f74-b3a9-1886cd845022"
      },
      "execution_count": null,
      "outputs": [
        {
          "output_type": "stream",
          "name": "stdout",
          "text": [
            "You are eligible to vote.\n"
          ]
        }
      ]
    },
    {
      "cell_type": "markdown",
      "source": [
        "**7.What do you mean by decision making statements. Explain with python code?**\n",
        "\n",
        "Decision-making statements in programming, also known as conditional statements, are constructs that allow a program to choose different paths of execution based on whether a specific condition or set of conditions is true or false. These statements enable a program to perform different actions in different scenarios, making the program dynamic and responsive to varying inputs and states.\n",
        "\n",
        "Types of Decision-Making Statements\n",
        "1.\tif Statement: Executes a block of code if a specified condition is true.\n",
        "2.\telse Statement: Executes a block of code if the condition in the if statement is false.\n",
        "3.\telif Statement: Short for \"else if\", it allows for multiple conditions to be checked in sequence.\n",
        "4.\tNested Conditionals: Conditional statements within other conditional statements.\n",
        "5.\tSwitch Statement: Although not present in all languages (like Python), it allows a variable to be tested for equality against a list of values.\n"
      ],
      "metadata": {
        "id": "H-XTvNwFDEDp"
      }
    },
    {
      "cell_type": "code",
      "source": [
        "# if Statement\n",
        "x = 10\n",
        "if x > 5:\n",
        "    print(\"x is greater than 5\")\n",
        "\n",
        "# else Statement\n",
        "x = 3\n",
        "if x > 5:\n",
        "    print(\"x is greater than 5\")\n",
        "else:\n",
        "    print(\"x is not greater than 5\")\n",
        "\n",
        "# elif Statement\n",
        "x = 7\n",
        "if x > 10:\n",
        "    print(\"x is greater than 10\")\n",
        "elif x > 5:\n",
        "    print(\"x is greater than 5 but less than or equal to 10\")\n",
        "else:\n",
        "    print(\"x is 5 or less\")\n",
        "\n",
        "# Nested Conditionals\n",
        "x = 8\n",
        "if x > 5:\n",
        "    if x % 2 == 0:\n",
        "        print(\"x is greater than 5 and even\")\n",
        "    else:\n",
        "        print(\"x is greater than 5 and odd\")\n",
        "else:\n",
        "    print(\"x is 5 or less\")\n"
      ],
      "metadata": {
        "colab": {
          "base_uri": "https://localhost:8080/"
        },
        "id": "q-dkhWa3D_-Y",
        "outputId": "298aade5-4780-4bb5-a302-a48b35a4eb30"
      },
      "execution_count": null,
      "outputs": [
        {
          "output_type": "stream",
          "name": "stdout",
          "text": [
            "x is greater than 5\n",
            "x is not greater than 5\n",
            "x is greater than 5 but less than or equal to 10\n",
            "x is greater than 5 and even\n"
          ]
        }
      ]
    },
    {
      "cell_type": "markdown",
      "source": [
        "**8. Write a program of factorial in python?**\n",
        "\n",
        "\n"
      ],
      "metadata": {
        "id": "K6-NBJG-EJOR"
      }
    },
    {
      "cell_type": "code",
      "source": [
        "def factorial(n):\n",
        "    if n == 0:\n",
        "        return 1\n",
        "    else:\n",
        "        return n * factorial(n - 1)\n",
        "\n",
        "num = int(input(\"Enter a number: \"))\n",
        "if num < 0:\n",
        "  print(\"Factorial is not defined for negative numbers.\")\n",
        "else:\n",
        "  print(f\"The factorial of {num} is:\", factorial(num))\n"
      ],
      "metadata": {
        "colab": {
          "base_uri": "https://localhost:8080/"
        },
        "id": "w4wNw6WaEMcH",
        "outputId": "b2cd3acc-5379-465b-d58c-1448e79e1510"
      },
      "execution_count": null,
      "outputs": [
        {
          "output_type": "stream",
          "name": "stdout",
          "text": [
            "Enter a number: 5\n",
            "The factorial of 5 is: 120\n"
          ]
        }
      ]
    },
    {
      "cell_type": "markdown",
      "source": [
        "**9. What do you understand by Functions ? Explain with python code.**\n",
        "\n",
        "\n",
        "Functions are a fundamental concept in programming, representing reusable blocks of code designed to perform specific tasks. They help in organizing and structuring code, making it more readable, maintainable, and modular. Functions allow programmers to encapsulate logic, reduce code duplication, and improve code clarity.\n",
        "\n",
        "Key Concepts of Functions\n",
        "1.\tDefinition: A function is defined once and can be called (invoked) multiple times from different parts of a program.\n",
        "2.\tParameters: Functions can accept inputs, called parameters or arguments, which allow them to operate on different data.\n",
        "3.\tReturn Value: Functions can return a value as a result of their execution.\n",
        "4.\tScope: Variables defined within a function are local to that function and cannot be accessed outside of it.\n",
        "\n",
        "Benefits of Using Functions\n",
        "1.\tModularity: Functions help break down complex problems into smaller, manageable parts.\n",
        "2.\tReusability: Code can be reused by calling functions multiple times, reducing redundancy.\n",
        "3.\tMaintainability: Changes in functionality need to be made in only one place (the function definition).\n",
        "4.\tReadability: Well-named functions make code easier to understand and follow.\n"
      ],
      "metadata": {
        "id": "Y59B_HqUEsEU"
      }
    },
    {
      "cell_type": "code",
      "source": [
        "# Function definition\n",
        "def greet(name):\n",
        "    \"\"\"\n",
        "    This function takes a name as input and returns a greeting message.\n",
        "    \"\"\"\n",
        "    return f\"Hello, {name}!\"\n",
        "\n",
        "# Function call\n",
        "print(greet(\"Alice\"))  # Output: Hello, Alice!\n",
        "print(greet(\"Bob\"))    # Output: Hello, Bob!\n",
        "\n",
        "# Function with parameters\n",
        "def sum_numbers(num1, num2):\n",
        "    \"\"\"\n",
        "    This function takes two numbers as input and returns their sum.\n",
        "    \"\"\"\n",
        "    return num1 + num2\n",
        "\n",
        "# Function call\n",
        "print(sum_numbers(5, 3))  # Output: 8\n",
        "print(sum_numbers(10, 20))  # Output: 30\n",
        "\n",
        "# Function with default parameter values\n",
        "def power(base, exponent=2):\n",
        "    \"\"\"\n",
        "    This function takes a base and an exponent (default value is 2) and\n",
        "    returns the base raised to the power of the exponent.\n",
        "    \"\"\"\n",
        "    return base ** exponent\n",
        "\n",
        "# Function call with default parameter\n",
        "print(power(2))\n",
        "\n",
        "# Function call with custom parameter\n",
        "print(power(2, 3))\n"
      ],
      "metadata": {
        "colab": {
          "base_uri": "https://localhost:8080/"
        },
        "id": "v8jbhaF4E8Bx",
        "outputId": "9879eb0a-add3-4e22-f853-a98d42b35fcc"
      },
      "execution_count": null,
      "outputs": [
        {
          "output_type": "stream",
          "name": "stdout",
          "text": [
            "Hello, Alice!\n",
            "Hello, Bob!\n",
            "8\n",
            "30\n",
            "4\n",
            "8\n"
          ]
        }
      ]
    },
    {
      "cell_type": "markdown",
      "source": [
        "**10. How many pillars of Oops we have in Python?**\n",
        "\n",
        "\n",
        "In Python, as in many other object-oriented programming languages, there are four main pillars of Object-Oriented Programming (OOP). These pillars provide the foundation for designing and implementing robust, modular, and reusable code.\n",
        "\n",
        "The four pillars of OOP are:\n",
        "1.\tEncapsulation\n",
        "2.\tAbstraction\n",
        "3.\tInheritance\n",
        "4.\tPolymorphism\n"
      ],
      "metadata": {
        "id": "aToFsvDKFTfo"
      }
    }
  ]
}